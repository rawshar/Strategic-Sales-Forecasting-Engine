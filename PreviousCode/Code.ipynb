{
 "cells": [
  {
   "cell_type": "code",
   "execution_count": 2,
   "metadata": {},
   "outputs": [],
   "source": [
    "import duckdb\n",
    "import pandas as pd\n"
   ]
  },
  {
   "cell_type": "code",
   "execution_count": 3,
   "metadata": {},
   "outputs": [
    {
     "data": {
      "text/plain": [
       "'\\nduckdb.sql(\"Drop table transaction\")\\nduckdb.sql(\"Drop table orders\")\\nduckdb.sql(\"Drop table customers\")\\nduckdb.sql(\"Drop table sales\")\\n'"
      ]
     },
     "execution_count": 3,
     "metadata": {},
     "output_type": "execute_result"
    }
   ],
   "source": [
    "trandf = pd.read_csv('Order.csv',sep=\",\")\n",
    "ordersdf=pd.read_table('Orders.csv',sep=\",\")\n",
    "custdf=pd.read_table('Customer.csv',sep=\",\")\n",
    "salesdf=pd.read_table('Salesman.csv',sep=\",\")\n",
    "'''\n",
    "duckdb.sql(\"Drop table transaction\")\n",
    "duckdb.sql(\"Drop table orders\")\n",
    "duckdb.sql(\"Drop table customers\")\n",
    "duckdb.sql(\"Drop table sales\")\n",
    "'''\n",
    "\n"
   ]
  },
  {
   "cell_type": "code",
   "execution_count": 4,
   "metadata": {},
   "outputs": [],
   "source": [
    "duckdb.sql(\" create TABLE transaction AS SELECT * FROM trandf\")\n",
    "duckdb.sql(\"INSERT INTO transaction SELECT * FROM trandf\")\n",
    "\n",
    "duckdb.sql(\"CREATE TABLE orders AS SELECT * FROM ordersdf\")\n",
    "duckdb.sql(\"INSERT INTO orders SELECT * FROM ordersdf\")\n",
    "\n",
    "duckdb.sql(\"CREATE TABLE customers AS SELECT * FROM custdf\")\n",
    "duckdb.sql(\"INSERT INTO customers SELECT * FROM custdf\")\n",
    "\n",
    "duckdb.sql(\"CREATE TABLE sales AS SELECT * FROM salesdf\")\n",
    "duckdb.sql(\"INSERT INTO sales SELECT * FROM salesdf\")"
   ]
  },
  {
   "cell_type": "code",
   "execution_count": 5,
   "metadata": {},
   "outputs": [
    {
     "data": {
      "text/plain": [
       "┌──────────────────────────────────────┬────────────────────────────┬────────────────────┐\n",
       "│               orderId                │            Date            │       Amount       │\n",
       "│               varchar                │          varchar           │       double       │\n",
       "├──────────────────────────────────────┼────────────────────────────┼────────────────────┤\n",
       "│ 728c68ad-7aad-4c2d-b923-3e7a2b4dc483 │ 2023-02-03 17:33:34.648552 │ 215.62263154223425 │\n",
       "│ a7c76589-63c2-461c-bd54-24dfaad1b93b │ 2023-07-04 17:33:34.648922 │ 119.60487811212104 │\n",
       "└──────────────────────────────────────┴────────────────────────────┴────────────────────┘"
      ]
     },
     "execution_count": 5,
     "metadata": {},
     "output_type": "execute_result"
    }
   ],
   "source": [
    "duckdb.sql(\"select * from transaction limit 2\")"
   ]
  },
  {
   "cell_type": "code",
   "execution_count": 6,
   "metadata": {},
   "outputs": [],
   "source": [
    "duckdb.sql(\"ALTER TABLE transaction ALTER Date TYPE timestamp\")"
   ]
  },
  {
   "cell_type": "code",
   "execution_count": 7,
   "metadata": {},
   "outputs": [
    {
     "data": {
      "text/plain": [
       "┌──────────────────────────────────────┬────────────────────────────┬────────────────────┐\n",
       "│               orderId                │            Date            │       Amount       │\n",
       "│               varchar                │         timestamp          │       double       │\n",
       "├──────────────────────────────────────┼────────────────────────────┼────────────────────┤\n",
       "│ 728c68ad-7aad-4c2d-b923-3e7a2b4dc483 │ 2023-02-03 17:33:34.648552 │ 215.62263154223425 │\n",
       "│ a7c76589-63c2-461c-bd54-24dfaad1b93b │ 2023-07-04 17:33:34.648922 │ 119.60487811212104 │\n",
       "└──────────────────────────────────────┴────────────────────────────┴────────────────────┘"
      ]
     },
     "execution_count": 7,
     "metadata": {},
     "output_type": "execute_result"
    }
   ],
   "source": [
    "duckdb.sql(\"select * from transaction limit 2\")"
   ]
  },
  {
   "cell_type": "code",
   "execution_count": 8,
   "metadata": {},
   "outputs": [
    {
     "data": {
      "text/plain": [
       "┌──────────────────────────────────────┬──────────────────────────────────────┬──────────────────────────────────────┐\n",
       "│               orderId                │              CustomerId              │               SalesId                │\n",
       "│               varchar                │               varchar                │               varchar                │\n",
       "├──────────────────────────────────────┼──────────────────────────────────────┼──────────────────────────────────────┤\n",
       "│ dfe72e0e-408f-4add-a4d0-b84cfba10bd5 │ 88f15aef-768c-4038-966f-30c339dfdb68 │ 105a836b-01e0-42be-adb3-4dfcea8adf70 │\n",
       "│ f679757d-048a-492d-a6b4-77603820b747 │ 7d74efd2-b208-43f5-a59f-2c23b92bfef0 │ 54ec8d0b-4b15-40e5-bcca-458c3303765c │\n",
       "└──────────────────────────────────────┴──────────────────────────────────────┴──────────────────────────────────────┘"
      ]
     },
     "execution_count": 8,
     "metadata": {},
     "output_type": "execute_result"
    }
   ],
   "source": [
    "duckdb.sql(\"select * from orders limit 2\")"
   ]
  },
  {
   "cell_type": "code",
   "execution_count": 9,
   "metadata": {},
   "outputs": [
    {
     "data": {
      "text/plain": [
       "┌──────────────────────────────────────┬──────────────┬──────────┬───────┐\n",
       "│              CustomerId              │     Name     │ Province │  Age  │\n",
       "│               varchar                │   varchar    │ varchar  │ int64 │\n",
       "├──────────────────────────────────────┼──────────────┼──────────┼───────┤\n",
       "│ 88f15aef-768c-4038-966f-30c339dfdb68 │ Ann Ponce    │ Manitoba │    73 │\n",
       "│ 7d74efd2-b208-43f5-a59f-2c23b92bfef0 │ Sandra Ellis │ Quebec   │    45 │\n",
       "└──────────────────────────────────────┴──────────────┴──────────┴───────┘"
      ]
     },
     "execution_count": 9,
     "metadata": {},
     "output_type": "execute_result"
    }
   ],
   "source": [
    "duckdb.sql(\"select * from customers limit 2\")"
   ]
  },
  {
   "cell_type": "code",
   "execution_count": 10,
   "metadata": {},
   "outputs": [
    {
     "data": {
      "text/plain": [
       "┌──────────────────────────────────────┬─────────────────────┬──────────────┬───────┐\n",
       "│               SalesId                │        Name         │   Province   │  Age  │\n",
       "│               varchar                │       varchar       │   varchar    │ int64 │\n",
       "├──────────────────────────────────────┼─────────────────────┼──────────────┼───────┤\n",
       "│ 105a836b-01e0-42be-adb3-4dfcea8adf70 │ Jacqueline Davidson │ Saskatchewan │    54 │\n",
       "│ 54ec8d0b-4b15-40e5-bcca-458c3303765c │ Karen Simon         │ Manitoba     │    28 │\n",
       "└──────────────────────────────────────┴─────────────────────┴──────────────┴───────┘"
      ]
     },
     "execution_count": 10,
     "metadata": {},
     "output_type": "execute_result"
    }
   ],
   "source": [
    "duckdb.sql(\"select * from sales limit 2\")"
   ]
  },
  {
   "cell_type": "code",
   "execution_count": 11,
   "metadata": {},
   "outputs": [
    {
     "data": {
      "text/plain": [
       "┌───────────────────────────┬────────────────────┬────────┬────────┐\n",
       "│         Province          │     AverageAge     │ MinAge │ MaxAge │\n",
       "│          varchar          │       double       │ int64  │ int64  │\n",
       "├───────────────────────────┼────────────────────┼────────┼────────┤\n",
       "│ Saskatchewan              │  44.74571140262361 │     25 │     65 │\n",
       "│ Manitoba                  │ 44.778978388998034 │     25 │     65 │\n",
       "│ British Columbia          │  45.07258883248731 │     25 │     65 │\n",
       "│ Newfoundland and Labrador │ 44.695915279878975 │     25 │     65 │\n",
       "│ Ontario                   │  44.73665297741273 │     25 │     65 │\n",
       "│ Prince Edward Island      │  44.82275931520645 │     25 │     65 │\n",
       "│ Nova Scotia               │ 45.023054755043226 │     25 │     65 │\n",
       "│ Quebec                    │ 45.092574257425746 │     25 │     65 │\n",
       "│ New Brunswick             │  44.89420654911839 │     25 │     65 │\n",
       "│ Alberta                   │ 45.124501992031874 │     25 │     65 │\n",
       "├───────────────────────────┴────────────────────┴────────┴────────┤\n",
       "│ 10 rows                                                4 columns │\n",
       "└──────────────────────────────────────────────────────────────────┘"
      ]
     },
     "execution_count": 11,
     "metadata": {},
     "output_type": "execute_result"
    }
   ],
   "source": [
    "''' Sql query to find average age of sales man in a province along with the mininmum age and max age per province'''\n",
    "'''Similar results can be replicated for the customers table'''\n",
    "duckdb.sql(\"select province, avg(age) as AverageAge,min(age) as MinAge ,max(age) as MaxAge from sales group by province\")\n"
   ]
  },
  {
   "cell_type": "code",
   "execution_count": 12,
   "metadata": {},
   "outputs": [
    {
     "data": {
      "text/plain": [
       "┌───────┬───────────────────────┐\n",
       "│ Years │ round(sum(amount), 2) │\n",
       "│ int64 │        double         │\n",
       "├───────┼───────────────────────┤\n",
       "│  2022 │            8274841.98 │\n",
       "│  2023 │           11902776.77 │\n",
       "└───────┴───────────────────────┘"
      ]
     },
     "execution_count": 12,
     "metadata": {},
     "output_type": "execute_result"
    }
   ],
   "source": [
    "'''Query to run the amount of sales each year'''\n",
    "duckdb.sql(\"select date_part('year',Date) as Years, round(sum(amount),2) from transaction group by Years\")"
   ]
  },
  {
   "cell_type": "code",
   "execution_count": 13,
   "metadata": {},
   "outputs": [
    {
     "data": {
      "text/plain": [
       "┌───────┬────────────┐\n",
       "│ Month │  TotalSum  │\n",
       "│ int64 │   double   │\n",
       "├───────┼────────────┤\n",
       "│     1 │ 1599638.11 │\n",
       "│     2 │ 1485083.29 │\n",
       "│     3 │ 1722266.86 │\n",
       "│     4 │ 1571995.64 │\n",
       "│     5 │ 1713890.94 │\n",
       "│     6 │ 1694987.43 │\n",
       "│     7 │ 1706391.08 │\n",
       "│     8 │  1820613.7 │\n",
       "│     9 │ 1657669.25 │\n",
       "│    10 │ 1790749.25 │\n",
       "│    11 │ 1693263.36 │\n",
       "│    12 │ 1721069.83 │\n",
       "├───────┴────────────┤\n",
       "│ 12 rows  2 columns │\n",
       "└────────────────────┘"
      ]
     },
     "execution_count": 13,
     "metadata": {},
     "output_type": "execute_result"
    }
   ],
   "source": [
    "'''Query to run the amount of sales each month'''\n",
    "duckdb.sql(\"select date_part('month',Date) as Month, round(sum(amount),2) as TotalSum from transaction group by Month\")"
   ]
  },
  {
   "cell_type": "code",
   "execution_count": 14,
   "metadata": {},
   "outputs": [
    {
     "data": {
      "text/plain": [
       "┌───────────────────────────┬─────────────┬───────────┬────────────────┐\n",
       "│         Province          │ TotalAmount │ AvgAmount │ TotalCustomers │\n",
       "│          varchar          │   double    │  double   │     int64      │\n",
       "├───────────────────────────┼─────────────┼───────────┼────────────────┤\n",
       "│ British Columbia          │  7776500.91 │    495.19 │          15704 │\n",
       "│ Quebec                    │  7912728.04 │    497.53 │          15904 │\n",
       "│ Ontario                   │  7948705.65 │    504.62 │          15752 │\n",
       "│ Alberta                   │  7953743.62 │    508.55 │          15640 │\n",
       "│ Saskatchewan              │  7967067.09 │    502.72 │          15848 │\n",
       "│ New Brunswick             │  8105529.35 │    503.32 │          16104 │\n",
       "│ Newfoundland and Labrador │  8210894.97 │     506.6 │          16208 │\n",
       "│ Manitoba                  │  8231038.74 │    504.35 │          16320 │\n",
       "│ Nova Scotia               │  8279793.36 │    509.34 │          16256 │\n",
       "│ Prince Edward Island      │  8354203.17 │    513.66 │          16264 │\n",
       "├───────────────────────────┴─────────────┴───────────┴────────────────┤\n",
       "│ 10 rows                                                    4 columns │\n",
       "└──────────────────────────────────────────────────────────────────────┘"
      ]
     },
     "execution_count": 14,
     "metadata": {},
     "output_type": "execute_result"
    }
   ],
   "source": [
    "'''Query to find the money spent in sales for each Province, \n",
    "Total Amount, AvgAmount, TotalCustomers Amounts rounder upto 2 decimal places'''\n",
    "duckdb.sql(\"select Province, round(sum(amount),2) as TotalAmount, round(avg(amount),2) as AvgAmount, count(c.customerid) as TotalCustomers from transaction t join orders as o on t.orderid=o.orderid join customers as c on c.customerid=o.customerid group by Province order by TotalAmount,AvgAmount,Province \")\n",
    "\n"
   ]
  },
  {
   "cell_type": "code",
   "execution_count": 15,
   "metadata": {},
   "outputs": [
    {
     "data": {
      "application/vnd.jupyter.widget-view+json": {
       "model_id": "59bea16b5f374d288c8d6b3d92670b22",
       "version_major": 2,
       "version_minor": 0
      },
      "text/plain": [
       "FloatProgress(value=0.0, layout=Layout(width='auto'), style=ProgressStyle(bar_color='black'))"
      ]
     },
     "metadata": {},
     "output_type": "display_data"
    },
    {
     "data": {
      "text/plain": [
       "┌──────────────────────────────────────┬───────────────────┐\n",
       "│               SalesId                │    TotalSales     │\n",
       "│               varchar                │      double       │\n",
       "├──────────────────────────────────────┼───────────────────┤\n",
       "│ b94d2c9e-8398-4b7f-af83-345352ab7fcc │ 80740204.89703828 │\n",
       "│ 8247bcab-8b86-4cbb-9be3-7d6893e725de │ 80740204.89703828 │\n",
       "│ b32322fe-eb5e-46c5-8f9f-8bc438f268b3 │ 80740204.89703828 │\n",
       "│ 45acd10e-9789-400b-9f49-bf36e668929e │ 80740204.89703828 │\n",
       "│ ca545952-ad76-4aae-8ccf-e962f25e3ba8 │ 80740204.89703828 │\n",
       "│ 83c96da8-b1ab-45ac-bc7e-1bacb946db7a │ 80740204.89703828 │\n",
       "│ 3ecea6d6-edd9-4a6e-ad7a-0118ece34094 │ 80740204.89703828 │\n",
       "│ 606506fa-183a-4ca7-9eb1-cea5a8e5d4d2 │ 80740204.89703828 │\n",
       "│ a5ba3507-68e2-463e-bf23-3d0082c4331c │ 80740204.89703828 │\n",
       "│ 82b85336-b9d8-40e8-bc91-ce7cec77f71e │ 80740204.89703828 │\n",
       "├──────────────────────────────────────┴───────────────────┤\n",
       "│ 10 rows                                        2 columns │\n",
       "└──────────────────────────────────────────────────────────┘"
      ]
     },
     "execution_count": 15,
     "metadata": {},
     "output_type": "execute_result"
    }
   ],
   "source": [
    "'''Top 10 sales persons with maximum sales by Amount'''\n",
    "duckdb.sql(\"select s.salesid, sum(t.amount) as TotalSales  from transaction t join orders as o on t.orderid=o.orderid join sales as s on s.salesid=s.salesid group by s.salesid order by TotalSales desc limit 10 \")\n",
    "\n"
   ]
  },
  {
   "cell_type": "code",
   "execution_count": 19,
   "metadata": {},
   "outputs": [
    {
     "data": {
      "text/plain": [
       "┌───────────┬────────────┬─────────────┐\n",
       "│ Age_0to25 │ Age_26to50 │ Age_51to100 │\n",
       "│  int128   │   int128   │   int128    │\n",
       "├───────────┼────────────┼─────────────┤\n",
       "│     20352 │      63848 │       75800 │\n",
       "└───────────┴────────────┴─────────────┘"
      ]
     },
     "execution_count": 19,
     "metadata": {},
     "output_type": "execute_result"
    }
   ],
   "source": [
    "'''Amount of sales for each age group 0-25, 26-50,51-end'''\n",
    "duckdb.sql(\"select sum(case when c.age <=25 then 1 else 0 end) as Age_0to25, sum(case when c.age >25 and c.age<=50 then 1 else 0 end) as Age_26to50, sum(case when c.age >50 then 1 else 0 end) as Age_51to100 from transaction t join orders o on t.orderid=o.orderid join customers c on o.customerid=c.customerid\")"
   ]
  },
  {
   "cell_type": "code",
   "execution_count": 23,
   "metadata": {},
   "outputs": [
    {
     "data": {
      "text/plain": [
       "┌─────────────┬─────────────┬─────────────┐\n",
       "│  Amt_0to25  │ Amt_26to50  │ Amt_51to100 │\n",
       "│   double    │   double    │   double    │\n",
       "├─────────────┼─────────────┼─────────────┤\n",
       "│ 10174497.02 │ 32373221.56 │ 38192486.32 │\n",
       "└─────────────┴─────────────┴─────────────┘"
      ]
     },
     "execution_count": 23,
     "metadata": {},
     "output_type": "execute_result"
    }
   ],
   "source": [
    "'''Amount of sales for each age group 0-25, 26-50,51-end'''\n",
    "duckdb.sql(\"select round(sum(case when c.age <=25 then t.amount else 0 end),2) as Amt_0to25, round(sum(case when c.age >25 and c.age<=50 then t.amount else 0 end),2) as Amt_26to50, round(sum(case when c.age >50 then t.amount else 0 end),2) as Amt_51to100 from transaction t join orders o on t.orderid=o.orderid join customers c on o.customerid=c.customerid\")"
   ]
  }
 ],
 "metadata": {
  "interpreter": {
   "hash": "a665b5d41d17b532ea9890333293a1b812fa0b73c9c25c950b3cedf1bebd0438"
  },
  "kernelspec": {
   "display_name": "Python 3.9.17 64-bit",
   "language": "python",
   "name": "python3"
  },
  "language_info": {
   "codemirror_mode": {
    "name": "ipython",
    "version": 3
   },
   "file_extension": ".py",
   "mimetype": "text/x-python",
   "name": "python",
   "nbconvert_exporter": "python",
   "pygments_lexer": "ipython3",
   "version": "3.9.17"
  },
  "orig_nbformat": 4
 },
 "nbformat": 4,
 "nbformat_minor": 2
}
