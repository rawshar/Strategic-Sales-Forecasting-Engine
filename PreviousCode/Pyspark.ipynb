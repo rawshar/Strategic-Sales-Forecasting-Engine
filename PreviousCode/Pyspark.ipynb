{
  "cells": [
    {
      "cell_type": "code",
      "execution_count": 14,
      "metadata": {
        "deletable": false,
        "id": "NWzWM_87C1Gb",
        "tags": [
          "setup"
        ]
      },
      "outputs": [],
      "source": [
        "!apt-get update -qq > /dev/null\n",
        "!apt-get install openjdk-8-jdk-headless -qq > /dev/null\n",
        "!wget -q https://dlcdn.apache.org/spark/spark-3.3.2/spark-3.3.2-bin-hadoop2.tgz\n",
        "!tar xf spark-3.3.2-bin-hadoop2.tgz\n",
        "!pip install -q findspark\n",
        "\n"
      ]
    },
    {
      "cell_type": "markdown",
      "metadata": {
        "deletable": false,
        "id": "FT4V7xlCC1Gc",
        "tags": [
          "instructions"
        ]
      },
      "source": []
    },
    {
      "cell_type": "code",
      "execution_count": 15,
      "metadata": {
        "deletable": false,
        "id": "NyH7WzP0C1Gc",
        "tags": [
          "setup"
        ]
      },
      "outputs": [],
      "source": [
        "import os\n",
        "os.environ[\"JAVA_HOME\"] = \"/usr/lib/jvm/java-8-openjdk-amd64\"\n",
        "os.environ[\"SPARK_HOME\"] = \"/content/spark-3.3.2-bin-hadoop2\"\n",
        "\n",
        "import findspark\n",
        "findspark.init()\n",
        "\n",
        "from pyspark.sql import SparkSession\n",
        "import random\n",
        "\n",
        "spark = SparkSession.builder.appName(\"YourTest\").master(\"local[2]\").config('spark.ui.port', random.randrange(4000,5000)).getOrCreate()"
      ]
    },
    {
      "cell_type": "code",
      "execution_count": 26,
      "metadata": {
        "colab": {
          "base_uri": "https://localhost:8080/"
        },
        "deletable": false,
        "id": "RWktEcnhC1Gd",
        "outputId": "d243d0a9-b32a-4c4e-f88d-b99c74088120",
        "tags": [
          "test"
        ]
      },
      "outputs": [
        {
          "name": "stdout",
          "output_type": "stream",
          "text": [
            "+------------------------------------+--------------------------+------------------+\n",
            "|orderId                             |Date                      |Amount            |\n",
            "+------------------------------------+--------------------------+------------------+\n",
            "|728c68ad-7aad-4c2d-b923-3e7a2b4dc483|2023-02-03 17:33:34.648552|215.62263154223422|\n",
            "|a7c76589-63c2-461c-bd54-24dfaad1b93b|2023-07-04 17:33:34.648922|119.60487811212103|\n",
            "|6ad74054-4dda-4263-b18c-6c85a1d104ec|2023-07-02 17:33:34.648927|477.70722585788195|\n",
            "|1defcd42-7cbf-4e7a-87ca-77e15b93688e|2023-05-27 17:33:34.648929|756.2136167685717 |\n",
            "|9b7d5a66-6255-45d6-8808-7fec8a37d517|2023-04-01 17:33:34.648931|62.52531043825501 |\n",
            "|4360e9ac-4250-44d9-a932-6d3eac822f43|2022-11-03 17:33:34.648933|58.08950202168354 |\n",
            "|ed21e3be-8588-4309-b5c4-af227c2b866d|2022-11-01 17:33:34.648934|886.0951454820862 |\n",
            "|10cd2baf-7b3d-445c-98f4-442beb44354f|2022-12-30 17:33:34.648936|72.8446714270986  |\n",
            "|18621a48-2ce0-4058-81bf-7068a325d378|2022-09-06 17:33:34.648938|265.6083632391815 |\n",
            "|00df03d5-6f92-422b-9015-b309903fc593|2023-07-02 17:33:34.648939|87.56753514621104 |\n",
            "+------------------------------------+--------------------------+------------------+\n",
            "only showing top 10 rows\n",
            "\n"
          ]
        }
      ],
      "source": [
        "transaction=spark.read.option(\"header\",\"true\").csv(\"Order.csv\")\n",
        "transaction.show(10,False)\n"
      ]
    },
    {
      "cell_type": "code",
      "execution_count": 27,
      "metadata": {
        "colab": {
          "base_uri": "https://localhost:8080/"
        },
        "id": "jK2WPajsNlp3",
        "outputId": "e4b674a2-d343-445a-d1b9-2f9bf91a45df"
      },
      "outputs": [
        {
          "name": "stdout",
          "output_type": "stream",
          "text": [
            "+--------------------+--------------------+--------------------+\n",
            "|             orderId|          CustomerId|             SalesId|\n",
            "+--------------------+--------------------+--------------------+\n",
            "|dfe72e0e-408f-4ad...|88f15aef-768c-403...|105a836b-01e0-42b...|\n",
            "|f679757d-048a-492...|7d74efd2-b208-43f...|54ec8d0b-4b15-40e...|\n",
            "|2e5f2b8c-dd9b-486...|df66c3b9-4661-4d5...|76b5d5e1-395c-4d2...|\n",
            "|e15dd391-7cd7-454...|78a390ef-24fe-40b...|f7274305-e452-4ea...|\n",
            "|9fb5805d-c718-41c...|d92a1ddc-d7ec-460...|e603c54a-a033-467...|\n",
            "|a9ce0e06-4aee-481...|868ae132-201f-40a...|27d67434-18df-4d4...|\n",
            "|f9970eb5-1199-4b4...|d9e8900e-62d5-49c...|147af1e7-3b05-448...|\n",
            "|5dd66d30-b9f5-4d3...|70253ad8-48a9-482...|f8725a94-5829-4f4...|\n",
            "|e9aa9b6f-bb56-4b8...|025809a2-b52b-4b2...|1f952c54-b904-4e3...|\n",
            "|7a5a64cd-fb50-49e...|b7b5d5ff-96bc-4ed...|fea5cf9b-2be8-47d...|\n",
            "+--------------------+--------------------+--------------------+\n",
            "only showing top 10 rows\n",
            "\n"
          ]
        }
      ],
      "source": [
        "orders=spark.read.option(\"header\",\"true\").csv(\"Orders.csv\")\n",
        "orders.show(10)"
      ]
    },
    {
      "cell_type": "code",
      "execution_count": 34,
      "metadata": {
        "colab": {
          "base_uri": "https://localhost:8080/"
        },
        "id": "FN5-aIFHNqmJ",
        "outputId": "39edb9ae-a07a-4da5-a6e6-b1eb503c41f7"
      },
      "outputs": [
        {
          "name": "stdout",
          "output_type": "stream",
          "text": [
            "+--------------------+----------------+--------------------+---+\n",
            "|          CustomerId|            Name|            Province|Age|\n",
            "+--------------------+----------------+--------------------+---+\n",
            "|88f15aef-768c-403...|       Ann Ponce|            Manitoba| 73|\n",
            "|7d74efd2-b208-43f...|    Sandra Ellis|              Quebec| 45|\n",
            "|df66c3b9-4661-4d5...|  Tabitha Thomas|Prince Edward Island| 20|\n",
            "|78a390ef-24fe-40b...|    Alexis Bates|Newfoundland and ...| 54|\n",
            "|d92a1ddc-d7ec-460...|Brenda Rodriguez|             Ontario| 37|\n",
            "|868ae132-201f-40a...|  Isabella Reyes|             Alberta| 56|\n",
            "|d9e8900e-62d5-49c...|     Jacob Brown|            Manitoba| 40|\n",
            "|70253ad8-48a9-482...|      John Riley|Newfoundland and ...| 79|\n",
            "|025809a2-b52b-4b2...|   Tina Richards|         Nova Scotia| 24|\n",
            "|b7b5d5ff-96bc-4ed...|     Tyler Green|       New Brunswick| 26|\n",
            "+--------------------+----------------+--------------------+---+\n",
            "only showing top 10 rows\n",
            "\n"
          ]
        }
      ],
      "source": [
        "customers=spark.read.option(\"header\",\"true\").csv(\"Customer.csv\")\n",
        "customers.show(10)\n"
      ]
    },
    {
      "cell_type": "code",
      "execution_count": 35,
      "metadata": {
        "colab": {
          "base_uri": "https://localhost:8080/"
        },
        "id": "tKyPeKl7NyrC",
        "outputId": "4e52269c-5f32-4efb-ba17-31709a9dd918"
      },
      "outputs": [
        {
          "name": "stdout",
          "output_type": "stream",
          "text": [
            "+--------------------+-------------------+--------------------+---+\n",
            "|             SalesId|               Name|            Province|Age|\n",
            "+--------------------+-------------------+--------------------+---+\n",
            "|105a836b-01e0-42b...|Jacqueline Davidson|        Saskatchewan| 54|\n",
            "|54ec8d0b-4b15-40e...|        Karen Simon|            Manitoba| 28|\n",
            "|76b5d5e1-395c-4d2...|       Thomas Burns|            Manitoba| 40|\n",
            "|f7274305-e452-4ea...|       Eric Wallace|            Manitoba| 40|\n",
            "|e603c54a-a033-467...|     Sabrina Bailey|    British Columbia| 60|\n",
            "|27d67434-18df-4d4...|     Phillip Willis|Newfoundland and ...| 33|\n",
            "|147af1e7-3b05-448...|     Jessica Bryant|             Ontario| 45|\n",
            "|f8725a94-5829-4f4...|     Clinton Butler|        Saskatchewan| 57|\n",
            "|1f952c54-b904-4e3...|    Kenneth Houston|Prince Edward Island| 42|\n",
            "|fea5cf9b-2be8-47d...|     Melissa Miller|         Nova Scotia| 38|\n",
            "+--------------------+-------------------+--------------------+---+\n",
            "only showing top 10 rows\n",
            "\n"
          ]
        }
      ],
      "source": [
        "sales=spark.read.option(\"header\",\"true\").csv(\"Salesman.csv\")\n",
        "sales.show(10)\n"
      ]
    },
    {
      "cell_type": "code",
      "execution_count": 36,
      "metadata": {
        "deletable": false,
        "id": "Y6VMnplEC1Ge",
        "tags": [
          "test"
        ]
      },
      "outputs": [],
      "source": [
        "transaction.createOrReplaceTempView(\"transaction\")\n",
        "orders.createOrReplaceTempView(\"orders\")\n",
        "sales.createOrReplaceTempView(\"sales\")\n",
        "customers.createOrReplaceTempView(\"customers\")"
      ]
    },
    {
      "cell_type": "code",
      "execution_count": 37,
      "metadata": {
        "colab": {
          "base_uri": "https://localhost:8080/"
        },
        "deletable": false,
        "id": "-H4sAftlC1Gi",
        "outputId": "ec4f6f33-232e-4784-d2ce-2c10c72e58ee",
        "tags": [
          "test"
        ]
      },
      "outputs": [
        {
          "name": "stdout",
          "output_type": "stream",
          "text": [
            "+--------------------+--------------------+------------------+\n",
            "|             orderId|                Date|            Amount|\n",
            "+--------------------+--------------------+------------------+\n",
            "|728c68ad-7aad-4c2...|2023-02-03 17:33:...|215.62263154223422|\n",
            "|a7c76589-63c2-461...|2023-07-04 17:33:...|119.60487811212103|\n",
            "+--------------------+--------------------+------------------+\n",
            "\n"
          ]
        }
      ],
      "source": [
        "res1 = spark.sql(\"select * from transaction limit 2\")\n",
        "res1.show()"
      ]
    },
    {
      "cell_type": "code",
      "execution_count": 38,
      "metadata": {
        "colab": {
          "base_uri": "https://localhost:8080/"
        },
        "id": "hGe0LFCErw14",
        "outputId": "66190ace-484c-4d99-aa81-4f25116a65c7"
      },
      "outputs": [
        {
          "name": "stdout",
          "output_type": "stream",
          "text": [
            "+--------------------+------------------+------+------+\n",
            "|            province|        AverageAge|MinAge|MaxAge|\n",
            "+--------------------+------------------+------+------+\n",
            "|             Alberta|45.124501992031874|    25|    65|\n",
            "|    British Columbia| 45.07258883248731|    25|    65|\n",
            "|            Manitoba|44.778978388998034|    25|    65|\n",
            "|       New Brunswick| 44.89420654911839|    25|    65|\n",
            "|Newfoundland and ...|44.695915279878975|    25|    65|\n",
            "|         Nova Scotia|45.023054755043226|    25|    65|\n",
            "|             Ontario| 44.73665297741273|    25|    65|\n",
            "|Prince Edward Island| 44.82275931520645|    25|    65|\n",
            "|              Quebec|45.092574257425746|    25|    65|\n",
            "|        Saskatchewan| 44.74571140262361|    25|    65|\n",
            "+--------------------+------------------+------+------+\n",
            "\n"
          ]
        }
      ],
      "source": [
        "res2 = spark.sql(\"select province, avg(age) as AverageAge,min(age) as MinAge ,max(age) as MaxAge from sales group by province\")\n",
        "res2.show()"
      ]
    },
    {
      "cell_type": "code",
      "execution_count": 39,
      "metadata": {
        "colab": {
          "base_uri": "https://localhost:8080/"
        },
        "id": "9zi9t_Onr4K7",
        "outputId": "e7975d0b-cd3a-4070-e780-2c115686682e"
      },
      "outputs": [
        {
          "name": "stdout",
          "output_type": "stream",
          "text": [
            "+--------------------+-----------+---------+--------------+\n",
            "|            Province|TotalAmount|AvgAmount|TotalCustomers|\n",
            "+--------------------+-----------+---------+--------------+\n",
            "|    British Columbia|  972062.61|   495.19|          1963|\n",
            "|              Quebec|  989091.01|   497.53|          1988|\n",
            "|             Ontario|  993588.21|   504.62|          1969|\n",
            "|             Alberta|  994217.95|   508.55|          1955|\n",
            "|        Saskatchewan|  995883.39|   502.72|          1981|\n",
            "|       New Brunswick| 1013191.17|   503.32|          2013|\n",
            "|Newfoundland and ...| 1026361.87|    506.6|          2026|\n",
            "|            Manitoba| 1028879.84|   504.35|          2040|\n",
            "|         Nova Scotia| 1034974.17|   509.34|          2032|\n",
            "|Prince Edward Island|  1044275.4|   513.66|          2033|\n",
            "+--------------------+-----------+---------+--------------+\n",
            "\n"
          ]
        }
      ],
      "source": [
        "res3 = spark.sql(\"select Province, round(sum(amount),2) as TotalAmount, round(avg(amount),2) as AvgAmount, count(c.customerid) as TotalCustomers from transaction t join orders as o on t.orderid=o.orderid join customers as c on c.customerid=o.customerid group by Province order by TotalAmount,AvgAmount,Province \")\n",
        "res3.show()"
      ]
    },
    {
      "cell_type": "code",
      "execution_count": 40,
      "metadata": {
        "colab": {
          "base_uri": "https://localhost:8080/"
        },
        "id": "iWkJT8w9w2Eh",
        "outputId": "8344a092-2648-4d3f-863a-4a577ac391e0"
      },
      "outputs": [
        {
          "name": "stdout",
          "output_type": "stream",
          "text": [
            "+--------------------+--------------------+\n",
            "|             salesid|          TotalSales|\n",
            "+--------------------+--------------------+\n",
            "|b12db433-05e2-441...|1.0092525612129884E7|\n",
            "|198366cb-588c-414...|1.0092525612129884E7|\n",
            "|82625d5a-817e-476...|1.0092525612129884E7|\n",
            "|4c09304f-09e4-426...|1.0092525612129884E7|\n",
            "|db362168-10c7-441...|1.0092525612129884E7|\n",
            "|3a40524f-090c-4a7...|1.0092525612129884E7|\n",
            "|3153e68c-f5bb-436...|1.0092525612129884E7|\n",
            "|d3e45018-5808-442...|1.0092525612129884E7|\n",
            "|333cc260-7e28-4a1...|1.0092525612129884E7|\n",
            "|5f205eea-077e-4ae...|1.0092525612129884E7|\n",
            "+--------------------+--------------------+\n",
            "\n"
          ]
        }
      ],
      "source": [
        "res4=spark.sql(\"select s.salesid, sum(t.amount) as TotalSales  from transaction t join orders as o on t.orderid=o.orderid join sales as s on s.salesid=s.salesid group by s.salesid order by TotalSales desc limit 10 \")\n",
        "res4.show()"
      ]
    }
  ],
  "metadata": {
    "colab": {
      "provenance": []
    },
    "kernelspec": {
      "display_name": "Python 3",
      "language": "python",
      "name": "python3"
    },
    "language_info": {
      "codemirror_mode": {
        "name": "ipython",
        "version": 3
      },
      "file_extension": ".py",
      "mimetype": "text/x-python",
      "name": "python",
      "nbconvert_exporter": "python",
      "pygments_lexer": "ipython3",
      "version": "3.6.7"
    }
  },
  "nbformat": 4,
  "nbformat_minor": 0
}
