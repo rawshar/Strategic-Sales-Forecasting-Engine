{
 "cells": [
  {
   "cell_type": "code",
   "execution_count": 46,
   "metadata": {},
   "outputs": [
    {
     "data": {
      "text/plain": [
       "┌────────────┬────────────────┬───────────────┬───┬─────────┬────────────┬───────────────┬──────────────────────┐\n",
       "│ product_id │ size_in_litres │ beverage_type │ … │  color  │  flavour   │     brand     │         name         │\n",
       "│   int64    │     double     │    varchar    │   │ varchar │  varchar   │    varchar    │       varchar        │\n",
       "├────────────┼────────────────┼───────────────┼───┼─────────┼────────────┼───────────────┼──────────────────────┤\n",
       "│          1 │            3.0 │ vodka         │ … │ black   │ orange     │ Budweiser     │ 3.0Vodka1900BlackO…  │\n",
       "│          2 │            0.5 │ brandy        │ … │ black   │ pineapple  │ ChivasRegal   │ 0.5Brandy1970Black…  │\n",
       "│          3 │           0.25 │ beer          │ … │ white   │ grape      │ JohnnieWalker │ 0.25Beer1970WhiteG…  │\n",
       "│          4 │           0.75 │ tequila       │ … │ black   │ apple      │ ChivasRegal   │ 0.75Tequila1940Bla…  │\n",
       "│          5 │            0.5 │ rum           │ … │ black   │ apple      │ JohnnieWalker │ 0.5Rum1970BlackApple │\n",
       "│          6 │            2.0 │ wine          │ … │ red     │ pineapple  │ GreyGoose     │ 2.0Wine1950RedPine…  │\n",
       "│          7 │           0.25 │ brandy        │ … │ red     │ cherry     │ GreyGoose     │ 0.25Brandy1930RedC…  │\n",
       "│          8 │            4.0 │ vodka         │ … │ red     │ lime       │ ChivasRegal   │ 4.0Vodka1930RedLime  │\n",
       "│          9 │            4.0 │ vodka         │ … │ white   │ lime       │ ChivasRegal   │ 4.0Vodka1910WhiteL…  │\n",
       "│         10 │            1.0 │ rum           │ … │ yellow  │ cherry     │ Jameson       │ 1.0Rum1940YellowCh…  │\n",
       "│          · │             ·  │  ·            │ · │   ·     │   ·        │    ·          │          ·           │\n",
       "│          · │             ·  │  ·            │ · │   ·     │   ·        │    ·          │          ·           │\n",
       "│          · │             ·  │  ·            │ · │   ·     │   ·        │    ·          │          ·           │\n",
       "│       9991 │            3.0 │ beer          │ … │ black   │ peach      │ GreyGoose     │ 3.0Beer1930BlackPe…  │\n",
       "│       9992 │           0.25 │ whisky        │ … │ white   │ cherry     │ JackDaniels   │ 0.25Whisky1970Whit…  │\n",
       "│       9993 │           0.25 │ wine          │ … │ black   │ cherry     │ JackDaniels   │ 0.25Wine1910BlackC…  │\n",
       "│       9994 │           0.75 │ whisky        │ … │ white   │ grape      │ JohnnieWalker │ 0.75Whisky1950Whit…  │\n",
       "│       9995 │            4.0 │ brandy        │ … │ white   │ lime       │ Budweiser     │ 4.0Brandy1940White…  │\n",
       "│       9996 │           0.75 │ vodka         │ … │ red     │ strawberry │ Budweiser     │ 0.75Vodka1910RedSt…  │\n",
       "│       9997 │            4.0 │ beer          │ … │ red     │ grape      │ JohnnieWalker │ 4.0Beer1950RedGrape  │\n",
       "│       9998 │            1.0 │ whisky        │ … │ red     │ orange     │ Budweiser     │ 1.0Whisky1940RedOr…  │\n",
       "│       9999 │            0.5 │ tequila       │ … │ red     │ orange     │ GreyGoose     │ 0.5Tequila1940RedO…  │\n",
       "│      10000 │            3.0 │ vodka         │ … │ red     │ pineapple  │ GreyGoose     │ 3.0Vodka1910RedPin…  │\n",
       "├────────────┴────────────────┴───────────────┴───┴─────────┴────────────┴───────────────┴──────────────────────┤\n",
       "│ ? rows (>9999 rows, 20 shown)                                                             9 columns (7 shown) │\n",
       "└───────────────────────────────────────────────────────────────────────────────────────────────────────────────┘"
      ]
     },
     "execution_count": 46,
     "metadata": {},
     "output_type": "execute_result"
    }
   ],
   "source": [
    "import duckdb\n",
    "# read from a single Parquet file\n",
    "duckdb.read_parquet('customers.parquet')\n",
    "# read multiple Parquet files from a folder\n",
    "duckdb.read_parquet('transactions.parquet')\n",
    "\n",
    "duckdb.read_parquet('products.parquet')\n",
    "# directly read a Parquet file from within SQL\n",
    "\n",
    "# call read_parquet from within SQL\n"
   ]
  },
  {
   "cell_type": "code",
   "execution_count": 47,
   "metadata": {},
   "outputs": [
    {
     "data": {
      "text/plain": [
       "┌────────────────┬─────────────┬────────────┬──────────┬────────────────────────────┐\n",
       "│ transaction_id │ customer_id │ product_id │ quantity │      transaction_date      │\n",
       "│     int64      │    int64    │   int64    │  double  │         timestamp          │\n",
       "├────────────────┼─────────────┼────────────┼──────────┼────────────────────────────┤\n",
       "│              1 │       12921 │       3737 │      1.0 │ 2023-06-11 17:06:09.611305 │\n",
       "│              2 │        4001 │      15343 │     0.25 │ 2023-01-01 17:06:09.611319 │\n",
       "│              3 │       15066 │      16478 │      0.5 │ 2023-06-09 17:06:09.611321 │\n",
       "│              4 │       12004 │       9811 │      1.0 │ 2022-09-21 17:06:09.611322 │\n",
       "│              5 │        1751 │      14323 │     0.25 │ 2023-01-30 17:06:09.611323 │\n",
       "│              6 │       10826 │       4539 │      2.0 │ 2023-01-08 17:06:09.611325 │\n",
       "│              7 │       18359 │       4180 │      0.5 │ 2022-08-23 17:06:09.611326 │\n",
       "│              8 │       13296 │       4950 │      0.5 │ 2023-04-25 17:06:09.611327 │\n",
       "│              9 │        1796 │       4128 │      2.0 │ 2023-07-18 17:06:09.611328 │\n",
       "│             10 │       16134 │         91 │      2.0 │ 2022-08-24 17:06:09.61133  │\n",
       "│              · │          ·  │          · │       ·  │             ·              │\n",
       "│              · │          ·  │          · │       ·  │             ·              │\n",
       "│              · │          ·  │          · │       ·  │             ·              │\n",
       "│           9991 │        5941 │       9001 │      1.0 │ 2023-07-14 17:06:09.622089 │\n",
       "│           9992 │       14147 │      19854 │     0.25 │ 2022-11-01 17:06:09.62209  │\n",
       "│           9993 │       17574 │       3986 │      0.5 │ 2022-09-21 17:06:09.622091 │\n",
       "│           9994 │         570 │       7601 │     0.25 │ 2023-05-17 17:06:09.622092 │\n",
       "│           9995 │        2037 │        737 │      0.5 │ 2023-05-16 17:06:09.622093 │\n",
       "│           9996 │       10168 │       4295 │      0.5 │ 2022-09-22 17:06:09.622094 │\n",
       "│           9997 │       11489 │       5697 │      3.0 │ 2023-04-28 17:06:09.622095 │\n",
       "│           9998 │       10718 │       4531 │     0.25 │ 2022-09-30 17:06:09.622096 │\n",
       "│           9999 │         376 │       3261 │      3.0 │ 2023-02-25 17:06:09.622097 │\n",
       "│          10000 │        6912 │      12612 │      0.5 │ 2022-11-09 17:06:09.622098 │\n",
       "├────────────────┴─────────────┴────────────┴──────────┴────────────────────────────┤\n",
       "│ ? rows (>9999 rows, 20 shown)                                           5 columns │\n",
       "└───────────────────────────────────────────────────────────────────────────────────┘"
      ]
     },
     "execution_count": 47,
     "metadata": {},
     "output_type": "execute_result"
    }
   ],
   "source": [
    "duckdb.sql(\"SELECT * FROM 'transactions.parquet'\")"
   ]
  },
  {
   "cell_type": "code",
   "execution_count": 48,
   "metadata": {},
   "outputs": [
    {
     "data": {
      "text/plain": [
       "┌─────────────┬──────────┬─────────────┬─────────────┬───────────────┬───────────────────────────┬─────────────────────┐\n",
       "│ customer_id │ location │ store_type  │ store_size  │  flower_name  │           name            │ number_of_employees │\n",
       "│    int64    │ varchar  │   varchar   │   varchar   │    varchar    │          varchar          │        int64        │\n",
       "├─────────────┼──────────┼─────────────┼─────────────┼───────────────┼───────────────────────────┼─────────────────────┤\n",
       "│           1 │ Toronto  │ Supermarket │ Extra_Small │ Rose          │ Toronto_Supermarket_Ext…  │                   5 │\n",
       "│           2 │ Toronto  │ Supermarket │ Extra_Small │ Tulip         │ Toronto_Supermarket_Ext…  │                   5 │\n",
       "│           3 │ Toronto  │ Supermarket │ Extra_Small │ Lily          │ Toronto_Supermarket_Ext…  │                   5 │\n",
       "│           4 │ Toronto  │ Supermarket │ Extra_Small │ Daisy         │ Toronto_Supermarket_Ext…  │                   5 │\n",
       "│           5 │ Toronto  │ Supermarket │ Extra_Small │ Sunflower     │ Toronto_Supermarket_Ext…  │                   5 │\n",
       "│           6 │ Toronto  │ Supermarket │ Extra_Small │ Orchid        │ Toronto_Supermarket_Ext…  │                   5 │\n",
       "│           7 │ Toronto  │ Supermarket │ Extra_Small │ Daffodil      │ Toronto_Supermarket_Ext…  │                   5 │\n",
       "│           8 │ Toronto  │ Supermarket │ Extra_Small │ Carnation     │ Toronto_Supermarket_Ext…  │                   5 │\n",
       "│           9 │ Toronto  │ Supermarket │ Extra_Small │ Violet        │ Toronto_Supermarket_Ext…  │                   5 │\n",
       "│          10 │ Toronto  │ Supermarket │ Extra_Small │ Chrysanthemum │ Toronto_Supermarket_Ext…  │                   5 │\n",
       "│           · │    ·     │     ·       │   ·         │  ·            │             ·             │                   · │\n",
       "│           · │    ·     │     ·       │   ·         │  ·            │             ·             │                   · │\n",
       "│           · │    ·     │     ·       │   ·         │  ·            │             ·             │                   · │\n",
       "│        9991 │ Montreal │ Mini_Store  │ Small       │ Rose          │ Montreal_Mini_Store_Sma…  │                  30 │\n",
       "│        9992 │ Montreal │ Mini_Store  │ Small       │ Tulip         │ Montreal_Mini_Store_Sma…  │                  30 │\n",
       "│        9993 │ Montreal │ Mini_Store  │ Small       │ Lily          │ Montreal_Mini_Store_Sma…  │                  30 │\n",
       "│        9994 │ Montreal │ Mini_Store  │ Small       │ Daisy         │ Montreal_Mini_Store_Sma…  │                  30 │\n",
       "│        9995 │ Montreal │ Mini_Store  │ Small       │ Sunflower     │ Montreal_Mini_Store_Sma…  │                  30 │\n",
       "│        9996 │ Montreal │ Mini_Store  │ Small       │ Orchid        │ Montreal_Mini_Store_Sma…  │                  30 │\n",
       "│        9997 │ Montreal │ Mini_Store  │ Small       │ Daffodil      │ Montreal_Mini_Store_Sma…  │                  30 │\n",
       "│        9998 │ Montreal │ Mini_Store  │ Small       │ Carnation     │ Montreal_Mini_Store_Sma…  │                  30 │\n",
       "│        9999 │ Montreal │ Mini_Store  │ Small       │ Violet        │ Montreal_Mini_Store_Sma…  │                  30 │\n",
       "│       10000 │ Montreal │ Mini_Store  │ Small       │ Chrysanthemum │ Montreal_Mini_Store_Sma…  │                  30 │\n",
       "├─────────────┴──────────┴─────────────┴─────────────┴───────────────┴───────────────────────────┴─────────────────────┤\n",
       "│ ? rows (>9999 rows, 20 shown)                                                                              7 columns │\n",
       "└──────────────────────────────────────────────────────────────────────────────────────────────────────────────────────┘"
      ]
     },
     "execution_count": 48,
     "metadata": {},
     "output_type": "execute_result"
    }
   ],
   "source": [
    "duckdb.sql(\"SELECT * FROM 'customers.parquet'\")"
   ]
  },
  {
   "cell_type": "code",
   "execution_count": 49,
   "metadata": {},
   "outputs": [
    {
     "data": {
      "text/plain": [
       "┌────────────┬────────────────┬───────────────┬───┬─────────┬────────────┬───────────────┬──────────────────────┐\n",
       "│ product_id │ size_in_litres │ beverage_type │ … │  color  │  flavour   │     brand     │         name         │\n",
       "│   int64    │     double     │    varchar    │   │ varchar │  varchar   │    varchar    │       varchar        │\n",
       "├────────────┼────────────────┼───────────────┼───┼─────────┼────────────┼───────────────┼──────────────────────┤\n",
       "│          1 │            3.0 │ vodka         │ … │ black   │ orange     │ Budweiser     │ 3.0Vodka1900BlackO…  │\n",
       "│          2 │            0.5 │ brandy        │ … │ black   │ pineapple  │ ChivasRegal   │ 0.5Brandy1970Black…  │\n",
       "│          3 │           0.25 │ beer          │ … │ white   │ grape      │ JohnnieWalker │ 0.25Beer1970WhiteG…  │\n",
       "│          4 │           0.75 │ tequila       │ … │ black   │ apple      │ ChivasRegal   │ 0.75Tequila1940Bla…  │\n",
       "│          5 │            0.5 │ rum           │ … │ black   │ apple      │ JohnnieWalker │ 0.5Rum1970BlackApple │\n",
       "│          6 │            2.0 │ wine          │ … │ red     │ pineapple  │ GreyGoose     │ 2.0Wine1950RedPine…  │\n",
       "│          7 │           0.25 │ brandy        │ … │ red     │ cherry     │ GreyGoose     │ 0.25Brandy1930RedC…  │\n",
       "│          8 │            4.0 │ vodka         │ … │ red     │ lime       │ ChivasRegal   │ 4.0Vodka1930RedLime  │\n",
       "│          9 │            4.0 │ vodka         │ … │ white   │ lime       │ ChivasRegal   │ 4.0Vodka1910WhiteL…  │\n",
       "│         10 │            1.0 │ rum           │ … │ yellow  │ cherry     │ Jameson       │ 1.0Rum1940YellowCh…  │\n",
       "│          · │             ·  │  ·            │ · │   ·     │   ·        │    ·          │          ·           │\n",
       "│          · │             ·  │  ·            │ · │   ·     │   ·        │    ·          │          ·           │\n",
       "│          · │             ·  │  ·            │ · │   ·     │   ·        │    ·          │          ·           │\n",
       "│       9991 │            3.0 │ beer          │ … │ black   │ peach      │ GreyGoose     │ 3.0Beer1930BlackPe…  │\n",
       "│       9992 │           0.25 │ whisky        │ … │ white   │ cherry     │ JackDaniels   │ 0.25Whisky1970Whit…  │\n",
       "│       9993 │           0.25 │ wine          │ … │ black   │ cherry     │ JackDaniels   │ 0.25Wine1910BlackC…  │\n",
       "│       9994 │           0.75 │ whisky        │ … │ white   │ grape      │ JohnnieWalker │ 0.75Whisky1950Whit…  │\n",
       "│       9995 │            4.0 │ brandy        │ … │ white   │ lime       │ Budweiser     │ 4.0Brandy1940White…  │\n",
       "│       9996 │           0.75 │ vodka         │ … │ red     │ strawberry │ Budweiser     │ 0.75Vodka1910RedSt…  │\n",
       "│       9997 │            4.0 │ beer          │ … │ red     │ grape      │ JohnnieWalker │ 4.0Beer1950RedGrape  │\n",
       "│       9998 │            1.0 │ whisky        │ … │ red     │ orange     │ Budweiser     │ 1.0Whisky1940RedOr…  │\n",
       "│       9999 │            0.5 │ tequila       │ … │ red     │ orange     │ GreyGoose     │ 0.5Tequila1940RedO…  │\n",
       "│      10000 │            3.0 │ vodka         │ … │ red     │ pineapple  │ GreyGoose     │ 3.0Vodka1910RedPin…  │\n",
       "├────────────┴────────────────┴───────────────┴───┴─────────┴────────────┴───────────────┴──────────────────────┤\n",
       "│ ? rows (>9999 rows, 20 shown)                                                             9 columns (7 shown) │\n",
       "└───────────────────────────────────────────────────────────────────────────────────────────────────────────────┘"
      ]
     },
     "execution_count": 49,
     "metadata": {},
     "output_type": "execute_result"
    }
   ],
   "source": [
    "duckdb.sql(\"SELECT * FROM 'products.parquet'\")"
   ]
  },
  {
   "cell_type": "code",
   "execution_count": null,
   "metadata": {},
   "outputs": [],
   "source": []
  },
  {
   "cell_type": "code",
   "execution_count": 50,
   "metadata": {},
   "outputs": [
    {
     "name": "stdout",
     "output_type": "stream",
     "text": [
      "Forecast for next month's sales: 20794.666666666668\n"
     ]
    }
   ],
   "source": [
    "#Using the Monthly moving average using DuckDB\n",
    "\n",
    "conn = duckdb.connect('my_database.duckdb')\n",
    "cursor = conn.cursor()\n",
    "\n",
    "window_size = 3 # used 3 months moving average\n",
    "\n",
    "# SQL query to calculate the moving average\n",
    "query = f\"\"\"\n",
    "WITH MonthlySales AS (\n",
    "    SELECT strftime('%Y-%m', transaction_date) as month, SUM(quantity) as monthly_sales\n",
    "    FROM 'transactions.parquet'\n",
    "    GROUP BY strftime('%Y-%m', transaction_date)\n",
    ")\n",
    "SELECT month, AVG(monthly_sales) OVER (ROWS BETWEEN {window_size - 1} PRECEDING AND CURRENT ROW) as moving_average\n",
    "FROM MonthlySales\n",
    "ORDER BY month\n",
    "\"\"\"\n",
    "\n",
    "cursor.execute(query)\n",
    "moving_averages = cursor.fetchall()\n",
    "\n",
    "# Forecast for the next month is the last value of the moving average list\n",
    "forecast_next_month = moving_averages[-1][1]\n",
    "\n",
    "print(f\"Forecast for next month's sales: {forecast_next_month}\")\n"
   ]
  },
  {
   "cell_type": "code",
   "execution_count": 51,
   "metadata": {},
   "outputs": [
    {
     "name": "stdout",
     "output_type": "stream",
     "text": [
      "Forecast for next month's sales (Linear Extrapolation): 23202.91346153846\n"
     ]
    }
   ],
   "source": [
    "#other way can be liner extrapolation:\n",
    "# using slope and intercept of the best fit line\n",
    "\n",
    "query = \"\"\"\n",
    "WITH MonthlySales AS (\n",
    "    SELECT strftime('%Y-%m', transaction_date) as month, SUM(quantity) as monthly_sales,\n",
    "           ROW_NUMBER() OVER (ORDER BY strftime('%Y-%m', transaction_date)) as n\n",
    "    FROM 'transactions.parquet'\n",
    "    GROUP BY strftime('%Y-%m', transaction_date)\n",
    "),\n",
    "SlopeAndIntercept AS (\n",
    "    SELECT\n",
    "        (COUNT(*)*SUM(n*monthly_sales) - SUM(n)*SUM(monthly_sales))/(COUNT(*)*SUM(n*n) - SUM(n)*SUM(n)) AS slope,\n",
    "        AVG(monthly_sales)-(COUNT(*) * SUM(n*monthly_sales) -SUM(n) *SUM(monthly_sales))/(COUNT(*)*SUM(n*n)-SUM(n)*SUM(n))*AVG(n) AS intercept\n",
    "    FROM MonthlySales\n",
    ")\n",
    "SELECT slope * (SELECT MAX(n) + 1 FROM MonthlySales) + intercept as forecast\n",
    "FROM SlopeAndIntercept\n",
    "\"\"\"\n",
    "\n",
    "cursor.execute(query)\n",
    "forecast = cursor.fetchone()[0]\n",
    "\n",
    "print(f\"Forecast for next month's sales (Linear Extrapolation): {forecast}\")\n"
   ]
  },
  {
   "cell_type": "code",
   "execution_count": 52,
   "metadata": {},
   "outputs": [
    {
     "name": "stdout",
     "output_type": "stream",
     "text": [
      "Forecast for next month's sales for the new product: 80.65384615384616\n"
     ]
    }
   ],
   "source": [
    "# for product substitution\n",
    "# the above method using slope and intercept of the best fit line  can also be applied once we have the product details\n",
    "\n",
    "# Define the attributes of the new product\n",
    "new_product_attributes = {\n",
    "    'size_in_litres': 3.0,\n",
    "    'beverage_types': 'vodka',\n",
    "    'brands': 'Budweiser',\n",
    "}\n",
    "\n",
    "#Create the SQL query to find matching products and their historical sales\n",
    "query = \"\"\"\n",
    "WITH MatchingProducts AS (\n",
    "    SELECT p.product_id\n",
    "    FROM 'products.parquet' p\n",
    "    WHERE p.size_in_litres = {size_in_litres} AND p.beverage_type = '{beverage_types}' AND p.brand = '{brands}'\n",
    "),\n",
    "HistoricalSales AS (\n",
    "    SELECT strftime('%Y-%m', t.transaction_date) as month, SUM(t.quantity) as monthly_sales\n",
    "    FROM transactions.parquet t\n",
    "    JOIN MatchingProducts mp ON t.product_id = mp.product_id\n",
    "    GROUP BY strftime('%Y-%m', t.transaction_date)\n",
    ")\n",
    "SELECT SUM(hs.monthly_sales) / COUNT(*) AS forecast_next_month\n",
    "FROM HistoricalSales hs\n",
    "\"\"\".format(**new_product_attributes)\n",
    "\n",
    "# Execute the query and get the result\n",
    "\n",
    "\n",
    "cursor.execute(query)\n",
    "forecast_next_month = cursor.fetchone()[0]\n",
    "\n",
    "print(f\"Forecast for next month's sales for the new product: {forecast_next_month}\")\n"
   ]
  },
  {
   "cell_type": "code",
   "execution_count": null,
   "metadata": {},
   "outputs": [],
   "source": []
  },
  {
   "cell_type": "code",
   "execution_count": null,
   "metadata": {},
   "outputs": [],
   "source": []
  }
 ],
 "metadata": {
  "interpreter": {
   "hash": "a665b5d41d17b532ea9890333293a1b812fa0b73c9c25c950b3cedf1bebd0438"
  },
  "kernelspec": {
   "display_name": "Python 3.9.17 64-bit",
   "language": "python",
   "name": "python3"
  },
  "language_info": {
   "codemirror_mode": {
    "name": "ipython",
    "version": 3
   },
   "file_extension": ".py",
   "mimetype": "text/x-python",
   "name": "python",
   "nbconvert_exporter": "python",
   "pygments_lexer": "ipython3",
   "version": "3.9.17"
  },
  "orig_nbformat": 4
 },
 "nbformat": 4,
 "nbformat_minor": 2
}
